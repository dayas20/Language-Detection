{
  "nbformat": 4,
  "nbformat_minor": 0,
  "metadata": {
    "colab": {
      "provenance": []
    },
    "kernelspec": {
      "name": "python3",
      "display_name": "Python 3"
    },
    "language_info": {
      "name": "python"
    }
  },
  "cells": [
    {
      "cell_type": "markdown",
      "source": [
        "This project is a detection of English, Arabic, French, Hindi, Urdu, Portuguese, Farsi, Pushto, Spanish, Korean, Tamil, Turkish, Estonian, Russian, Romanian, Chinese, Swedish, Latin, Indonesian, Dutch, Japanese, and Thai using Multinomial Naive Bayes method."
      ],
      "metadata": {
        "id": "rWanqpvuPFXl"
      }
    },
    {
      "cell_type": "markdown",
      "source": [
        "## Import Library"
      ],
      "metadata": {
        "id": "ygCPGA8l8b5E"
      }
    },
    {
      "cell_type": "code",
      "source": [
        "import pandas as pd\n",
        "import numpy as np\n",
        "from sklearn.feature_extraction.text import CountVectorizer\n",
        "from sklearn.model_selection import train_test_split\n",
        "from sklearn.naive_bayes import MultinomialNB"
      ],
      "metadata": {
        "id": "aff2kKQRALMw"
      },
      "execution_count": 27,
      "outputs": []
    },
    {
      "cell_type": "markdown",
      "source": [
        "\n",
        "\n",
        "This code is importing several Python libraries for text analysis and machine learning, and uses them to build a Naive Bayes classifier for text classification.\n",
        "\n",
        "- `pandas` is a library for data manipulation and analysis. It provides data structures and functions to work with tabular data, such as data frames, and is often used for data cleaning and preparation.\n",
        "- `numpy` is a library for scientific computing in Python. It provides support for large, multi-dimensional arrays and matrices, as well as a large collection of mathematical functions to operate on them.\n",
        "- `sklearn.feature_extraction.text` is a module from the scikit-learn library that provides tools for converting text into numerical representations that can be used as input to machine learning algorithms. Specifically, it provides the `CountVectorizer` class, which converts a collection of text documents into a matrix of word counts.\n",
        "- `sklearn.model_selection` is a module from the scikit-learn library that provides tools for model selection and evaluation. Specifically, it provides the `train_test_split` function, which splits a dataset into training and testing subsets.\n",
        "- `sklearn.naive_bayes` is a module from the scikit-learn library that provides implementation of the Naive Bayes algorithm, which is a probabilistic classifier that assumes independence between features.\n",
        "\n",
        "The code likely reads in a dataset of text documents and their corresponding labels, cleans and preprocesses the data, vectorizes the text using the `CountVectorizer` class, and then splits the data into training and testing subsets using the `train_test_split` function. Finally, it trains a Naive Bayes classifier on the training data using the `MultinomialNB` class, and evaluates its performance on the testing data."
      ],
      "metadata": {
        "id": "UoW0loqjSu7-"
      }
    },
    {
      "cell_type": "markdown",
      "source": [
        "## Load Dataset"
      ],
      "metadata": {
        "id": "CvV-1M_QAdjW"
      }
    },
    {
      "cell_type": "code",
      "source": [
        "data = pd.read_csv(\"Language.csv\")\n",
        "print(data.head())"
      ],
      "metadata": {
        "colab": {
          "base_uri": "https://localhost:8080/"
        },
        "id": "XKIRCvau8oxS",
        "outputId": "b77653bd-436b-4ff3-811f-3d39791fd73e"
      },
      "execution_count": 29,
      "outputs": [
        {
          "output_type": "stream",
          "name": "stdout",
          "text": [
            "                                                Text  language\n",
            "0  klement gottwaldi surnukeha palsameeriti ning ...  Estonian\n",
            "1  sebes joseph pereira thomas  på eng the jesuit...   Swedish\n",
            "2  ถนนเจริญกรุง อักษรโรมัน thanon charoen krung เ...      Thai\n",
            "3  விசாகப்பட்டினம் தமிழ்ச்சங்கத்தை இந்துப் பத்திர...     Tamil\n",
            "4  de spons behoort tot het geslacht haliclona en...     Dutch\n"
          ]
        }
      ]
    },
    {
      "cell_type": "markdown",
      "source": [
        "\n",
        "\n",
        "This code reads a CSV file named \"Language.csv\" into a pandas data frame, and then prints the first few rows of the data frame using the `head()` function.\n",
        "\n",
        "- `pd.read_csv()` is a function from the pandas library that reads a CSV file into a data frame. The function takes the filename as its argument and returns a data frame object. \n",
        "\n",
        "- `\"Language.csv\"` is the name of the file being read.\n",
        "\n",
        "- `data` is the name of the variable that is used to store the data frame object returned by the `read_csv()` function.\n",
        "\n",
        "- `data.head()` is a function that returns the first few rows of the data frame. By default, it returns the first five rows, but this can be changed by passing an argument to the function.\n",
        "\n",
        "- `print()` is a built-in Python function that prints the output of the expression that is passed to it. In this case, the expression is `data.head()`, which is a data frame object containing the first few rows of the CSV file.\n",
        "\n",
        "Overall, this code is used to inspect the contents of the \"Language.csv\" file by printing the first few rows of the data frame."
      ],
      "metadata": {
        "id": "aTGcyNsES5G5"
      }
    },
    {
      "cell_type": "code",
      "source": [
        "data.shape"
      ],
      "metadata": {
        "colab": {
          "base_uri": "https://localhost:8080/"
        },
        "id": "BVN0SGqJRGww",
        "outputId": "8a574938-50dc-4564-e021-5e60838d7819"
      },
      "execution_count": 31,
      "outputs": [
        {
          "output_type": "execute_result",
          "data": {
            "text/plain": [
              "(22000, 2)"
            ]
          },
          "metadata": {},
          "execution_count": 31
        }
      ]
    },
    {
      "cell_type": "markdown",
      "source": [
        "\n",
        "\n",
        "This code returns the shape of the pandas data frame `data`, which is a tuple containing the number of rows and columns in the data frame.\n",
        "\n",
        "- `data` is the name of the pandas data frame.\n",
        "\n",
        "- `.shape` is an attribute of a pandas data frame that returns the shape of the data frame as a tuple `(nrows, ncols)`, where `nrows` is the number of rows and `ncols` is the number of columns.\n",
        "\n",
        "For example, if `data.shape` returns `(100, 5)`, it means that the data frame `data` has 100 rows and 5 columns.\n",
        "\n",
        "By inspecting the shape of the data frame, we can quickly get an idea of the size of the dataset and the number of features it contains. This information can be useful for data cleaning and preprocessing, as well as for selecting appropriate machine learning algorithms and evaluating their performance."
      ],
      "metadata": {
        "id": "u5hRRVM1S6Ef"
      }
    },
    {
      "cell_type": "code",
      "source": [
        "data.info()"
      ],
      "metadata": {
        "colab": {
          "base_uri": "https://localhost:8080/"
        },
        "id": "rVzETDAcRMx2",
        "outputId": "20a6faaa-ad79-4bef-b15a-15c987c80800"
      },
      "execution_count": 32,
      "outputs": [
        {
          "output_type": "stream",
          "name": "stdout",
          "text": [
            "<class 'pandas.core.frame.DataFrame'>\n",
            "RangeIndex: 22000 entries, 0 to 21999\n",
            "Data columns (total 2 columns):\n",
            " #   Column    Non-Null Count  Dtype \n",
            "---  ------    --------------  ----- \n",
            " 0   Text      22000 non-null  object\n",
            " 1   language  22000 non-null  object\n",
            "dtypes: object(2)\n",
            "memory usage: 343.9+ KB\n"
          ]
        }
      ]
    },
    {
      "cell_type": "markdown",
      "source": [
        "\n",
        "\n",
        "This code prints information about the pandas data frame `data`, including the number of non-null values and data types of each column, as well as the total memory usage of the data frame.\n",
        "\n",
        "- `data` is the name of the pandas data frame.\n",
        "\n",
        "- `.info()` is a method of a pandas data frame that prints a concise summary of the data frame's contents. It includes information such as the data types of each column, the number of non-null values in each column, and the memory usage of the data frame.\n",
        "\n",
        "The first line indicates that the object is a pandas data frame, and that it has a range index with 100 entries. The next few lines list the columns in the data frame, along with their data types and the number of non-null values. Finally, the last line shows the total memory usage of the data frame.\n",
        "\n",
        "This information can be useful for identifying missing or incorrect values, understanding the distribution of data types, and optimizing memory usage."
      ],
      "metadata": {
        "id": "fDaDZjpkTMOv"
      }
    },
    {
      "cell_type": "code",
      "source": [
        "data.describe()"
      ],
      "metadata": {
        "colab": {
          "base_uri": "https://localhost:8080/",
          "height": 174
        },
        "id": "MeGs3EY7RVWL",
        "outputId": "863b9162-1c12-4706-a2ff-092085810db0"
      },
      "execution_count": 33,
      "outputs": [
        {
          "output_type": "execute_result",
          "data": {
            "text/plain": [
              "                                                     Text  language\n",
              "count                                               22000     22000\n",
              "unique                                              21859        22\n",
              "top     haec commentatio automatice praeparata res ast...  Estonian\n",
              "freq                                                   48      1000"
            ],
            "text/html": [
              "\n",
              "  <div id=\"df-30ec1131-da72-4e3e-a8c5-dbb33587c2cd\">\n",
              "    <div class=\"colab-df-container\">\n",
              "      <div>\n",
              "<style scoped>\n",
              "    .dataframe tbody tr th:only-of-type {\n",
              "        vertical-align: middle;\n",
              "    }\n",
              "\n",
              "    .dataframe tbody tr th {\n",
              "        vertical-align: top;\n",
              "    }\n",
              "\n",
              "    .dataframe thead th {\n",
              "        text-align: right;\n",
              "    }\n",
              "</style>\n",
              "<table border=\"1\" class=\"dataframe\">\n",
              "  <thead>\n",
              "    <tr style=\"text-align: right;\">\n",
              "      <th></th>\n",
              "      <th>Text</th>\n",
              "      <th>language</th>\n",
              "    </tr>\n",
              "  </thead>\n",
              "  <tbody>\n",
              "    <tr>\n",
              "      <th>count</th>\n",
              "      <td>22000</td>\n",
              "      <td>22000</td>\n",
              "    </tr>\n",
              "    <tr>\n",
              "      <th>unique</th>\n",
              "      <td>21859</td>\n",
              "      <td>22</td>\n",
              "    </tr>\n",
              "    <tr>\n",
              "      <th>top</th>\n",
              "      <td>haec commentatio automatice praeparata res ast...</td>\n",
              "      <td>Estonian</td>\n",
              "    </tr>\n",
              "    <tr>\n",
              "      <th>freq</th>\n",
              "      <td>48</td>\n",
              "      <td>1000</td>\n",
              "    </tr>\n",
              "  </tbody>\n",
              "</table>\n",
              "</div>\n",
              "      <button class=\"colab-df-convert\" onclick=\"convertToInteractive('df-30ec1131-da72-4e3e-a8c5-dbb33587c2cd')\"\n",
              "              title=\"Convert this dataframe to an interactive table.\"\n",
              "              style=\"display:none;\">\n",
              "        \n",
              "  <svg xmlns=\"http://www.w3.org/2000/svg\" height=\"24px\"viewBox=\"0 0 24 24\"\n",
              "       width=\"24px\">\n",
              "    <path d=\"M0 0h24v24H0V0z\" fill=\"none\"/>\n",
              "    <path d=\"M18.56 5.44l.94 2.06.94-2.06 2.06-.94-2.06-.94-.94-2.06-.94 2.06-2.06.94zm-11 1L8.5 8.5l.94-2.06 2.06-.94-2.06-.94L8.5 2.5l-.94 2.06-2.06.94zm10 10l.94 2.06.94-2.06 2.06-.94-2.06-.94-.94-2.06-.94 2.06-2.06.94z\"/><path d=\"M17.41 7.96l-1.37-1.37c-.4-.4-.92-.59-1.43-.59-.52 0-1.04.2-1.43.59L10.3 9.45l-7.72 7.72c-.78.78-.78 2.05 0 2.83L4 21.41c.39.39.9.59 1.41.59.51 0 1.02-.2 1.41-.59l7.78-7.78 2.81-2.81c.8-.78.8-2.07 0-2.86zM5.41 20L4 18.59l7.72-7.72 1.47 1.35L5.41 20z\"/>\n",
              "  </svg>\n",
              "      </button>\n",
              "      \n",
              "  <style>\n",
              "    .colab-df-container {\n",
              "      display:flex;\n",
              "      flex-wrap:wrap;\n",
              "      gap: 12px;\n",
              "    }\n",
              "\n",
              "    .colab-df-convert {\n",
              "      background-color: #E8F0FE;\n",
              "      border: none;\n",
              "      border-radius: 50%;\n",
              "      cursor: pointer;\n",
              "      display: none;\n",
              "      fill: #1967D2;\n",
              "      height: 32px;\n",
              "      padding: 0 0 0 0;\n",
              "      width: 32px;\n",
              "    }\n",
              "\n",
              "    .colab-df-convert:hover {\n",
              "      background-color: #E2EBFA;\n",
              "      box-shadow: 0px 1px 2px rgba(60, 64, 67, 0.3), 0px 1px 3px 1px rgba(60, 64, 67, 0.15);\n",
              "      fill: #174EA6;\n",
              "    }\n",
              "\n",
              "    [theme=dark] .colab-df-convert {\n",
              "      background-color: #3B4455;\n",
              "      fill: #D2E3FC;\n",
              "    }\n",
              "\n",
              "    [theme=dark] .colab-df-convert:hover {\n",
              "      background-color: #434B5C;\n",
              "      box-shadow: 0px 1px 3px 1px rgba(0, 0, 0, 0.15);\n",
              "      filter: drop-shadow(0px 1px 2px rgba(0, 0, 0, 0.3));\n",
              "      fill: #FFFFFF;\n",
              "    }\n",
              "  </style>\n",
              "\n",
              "      <script>\n",
              "        const buttonEl =\n",
              "          document.querySelector('#df-30ec1131-da72-4e3e-a8c5-dbb33587c2cd button.colab-df-convert');\n",
              "        buttonEl.style.display =\n",
              "          google.colab.kernel.accessAllowed ? 'block' : 'none';\n",
              "\n",
              "        async function convertToInteractive(key) {\n",
              "          const element = document.querySelector('#df-30ec1131-da72-4e3e-a8c5-dbb33587c2cd');\n",
              "          const dataTable =\n",
              "            await google.colab.kernel.invokeFunction('convertToInteractive',\n",
              "                                                     [key], {});\n",
              "          if (!dataTable) return;\n",
              "\n",
              "          const docLinkHtml = 'Like what you see? Visit the ' +\n",
              "            '<a target=\"_blank\" href=https://colab.research.google.com/notebooks/data_table.ipynb>data table notebook</a>'\n",
              "            + ' to learn more about interactive tables.';\n",
              "          element.innerHTML = '';\n",
              "          dataTable['output_type'] = 'display_data';\n",
              "          await google.colab.output.renderOutput(dataTable, element);\n",
              "          const docLink = document.createElement('div');\n",
              "          docLink.innerHTML = docLinkHtml;\n",
              "          element.appendChild(docLink);\n",
              "        }\n",
              "      </script>\n",
              "    </div>\n",
              "  </div>\n",
              "  "
            ]
          },
          "metadata": {},
          "execution_count": 33
        }
      ]
    },
    {
      "cell_type": "markdown",
      "source": [
        "\n",
        "\n",
        "This code generates descriptive statistics for the numerical columns of the pandas data frame `data`.\n",
        "\n",
        "- `data` is the name of the pandas data frame.\n",
        "\n",
        "- `.describe()` is a method of a pandas data frame that generates summary statistics for the numerical columns of the data frame. By default, it includes the count, mean, standard deviation, minimum, 25th percentile, median, 75th percentile, and maximum values for each column."
      ],
      "metadata": {
        "id": "cPmc55WpTpv1"
      }
    },
    {
      "cell_type": "markdown",
      "source": [
        "## Check Missing Value"
      ],
      "metadata": {
        "id": "3ZFCXvbSAp1L"
      }
    },
    {
      "cell_type": "code",
      "source": [
        "data.isnull().sum()"
      ],
      "metadata": {
        "colab": {
          "base_uri": "https://localhost:8080/"
        },
        "id": "bT74K28GAvq6",
        "outputId": "b551ebb1-08dc-44a3-a1b6-6e2f0587c8b1"
      },
      "execution_count": 4,
      "outputs": [
        {
          "output_type": "execute_result",
          "data": {
            "text/plain": [
              "Text        0\n",
              "language    0\n",
              "dtype: int64"
            ]
          },
          "metadata": {},
          "execution_count": 4
        }
      ]
    },
    {
      "cell_type": "markdown",
      "source": [
        "\n",
        "\n",
        "This code calculates the number of missing (null) values in each column of the pandas data frame `data`.\n",
        "\n",
        "- `data` is the name of the pandas data frame.\n",
        "\n",
        "- `.isnull()` is a method of a pandas data frame that returns a Boolean mask indicating which values in the data frame are missing (null). Each element of the mask is `True` if the corresponding value in the data frame is null, and `False` otherwise.\n",
        "\n",
        "- `.sum()` is a method that calculates the sum of the values in each column of the Boolean mask. Since `True` is interpreted as 1 and `False` as 0, the sum of the Boolean mask gives the total number of missing values in each column."
      ],
      "metadata": {
        "id": "IzceKz4DTza8"
      }
    },
    {
      "cell_type": "code",
      "source": [
        "data[\"language\"].value_counts()"
      ],
      "metadata": {
        "colab": {
          "base_uri": "https://localhost:8080/"
        },
        "id": "gJaH5EVgAzkP",
        "outputId": "84636aac-dac9-4d4d-c909-0edeb04c8824"
      },
      "execution_count": 5,
      "outputs": [
        {
          "output_type": "execute_result",
          "data": {
            "text/plain": [
              "Estonian      1000\n",
              "Swedish       1000\n",
              "English       1000\n",
              "Russian       1000\n",
              "Romanian      1000\n",
              "Persian       1000\n",
              "Pushto        1000\n",
              "Spanish       1000\n",
              "Hindi         1000\n",
              "Korean        1000\n",
              "Chinese       1000\n",
              "French        1000\n",
              "Portugese     1000\n",
              "Indonesian    1000\n",
              "Urdu          1000\n",
              "Latin         1000\n",
              "Turkish       1000\n",
              "Japanese      1000\n",
              "Dutch         1000\n",
              "Tamil         1000\n",
              "Thai          1000\n",
              "Arabic        1000\n",
              "Name: language, dtype: int64"
            ]
          },
          "metadata": {},
          "execution_count": 5
        }
      ]
    },
    {
      "cell_type": "markdown",
      "source": [
        "\n",
        "\n",
        "This code counts the number of occurrences of each unique value in the \"language\" column of the pandas data frame `data`.\n",
        "\n",
        "- `data` is the name of the pandas data frame.\n",
        "\n",
        "- `[\"language\"]` selects the \"language\" column of the data frame.\n",
        "\n",
        "- `.value_counts()` is a method of a pandas series (i.e., a single column of a data frame) that counts the number of occurrences of each unique value in the series."
      ],
      "metadata": {
        "id": "V0-xcnQeT3Bo"
      }
    },
    {
      "cell_type": "markdown",
      "source": [
        "## Modelling"
      ],
      "metadata": {
        "id": "nuDNJf-PBQ-x"
      }
    },
    {
      "cell_type": "code",
      "source": [
        "x = np.array(data[\"Text\"])\n",
        "y = np.array(data[\"language\"])"
      ],
      "metadata": {
        "id": "s-PDw5rPBWKj"
      },
      "execution_count": 7,
      "outputs": []
    },
    {
      "cell_type": "markdown",
      "source": [
        "\n",
        "\n",
        "This code creates numpy arrays `x` and `y` from two columns of the pandas data frame `data`.\n",
        "\n",
        "- `np.array()` is a numpy function that converts a pandas series or data frame to a numpy array.\n",
        "\n",
        "- `data[\"Text\"]` selects the \"Text\" column of the data frame `data`.\n",
        "\n",
        "- `data[\"language\"]` selects the \"language\" column of the data frame `data`.\n",
        "\n",
        "- `x` and `y` are the names of the numpy arrays that are created from the \"Text\" and \"language\" columns, respectively.\n",
        "\n",
        "The resulting numpy arrays `x` and `y` can be used as inputs for machine learning algorithms that require numerical data (e.g., text classification algorithms). In this case, `x` contains the text data and `y` contains the corresponding language labels."
      ],
      "metadata": {
        "id": "uF0Lov1nUA71"
      }
    },
    {
      "cell_type": "code",
      "source": [
        "cv = CountVectorizer()\n",
        "X = cv.fit_transform(x)\n",
        "X_train, X_test, y_train, y_test = train_test_split(X, y, test_size=0.30, random_state=25)"
      ],
      "metadata": {
        "id": "Wq2NpqBEChAz"
      },
      "execution_count": 16,
      "outputs": []
    },
    {
      "cell_type": "markdown",
      "source": [
        "\n",
        "\n",
        "This code performs the following tasks:\n",
        "\n",
        "- It creates a `CountVectorizer` object `cv`, which is a text feature extraction method provided by scikit-learn that converts a collection of text documents to a matrix of token counts.\n",
        "\n",
        "- It applies `cv.fit_transform()` to the `x` numpy array to transform the text data into a sparse matrix of token counts. The resulting matrix is stored in the `X` variable.\n",
        "\n",
        "- It uses `train_test_split()` from scikit-learn to split the `X` and `y` data into training and testing sets. The training set consists of 70% of the data (`test_size=0.30`), and the remaining 30% is used for testing. The `random_state` parameter is set to 25 to ensure reproducibility of the split.\n",
        "\n",
        "- It stores the training and testing sets in four variables: `X_train`, `X_test`, `y_train`, and `y_test`.\n",
        "\n",
        "The resulting `X_train` and `X_test` matrices are sparse matrices with rows representing individual text documents and columns representing the frequency of each word in the corpus. The `y_train` and `y_test` numpy arrays contain the corresponding language labels for the text documents in the training and testing sets.\n",
        "\n",
        "These data splits are commonly used for training and evaluating machine learning models, where the model is trained on the `X_train` and `y_train` data, and evaluated on the `X_test` and `y_test` data. The goal is to build a model that can accurately predict the language of a text document based on its word frequencies."
      ],
      "metadata": {
        "id": "5hy5pTJTUPa8"
      }
    },
    {
      "cell_type": "code",
      "source": [
        "model = MultinomialNB()\n",
        "model.fit(X_train, y_train)\n",
        "model.score(X_test, y_test)"
      ],
      "metadata": {
        "colab": {
          "base_uri": "https://localhost:8080/"
        },
        "id": "Hq3DSHADDum_",
        "outputId": "6f29df34-ce36-4a53-eae9-59f89b5a4788"
      },
      "execution_count": 17,
      "outputs": [
        {
          "output_type": "execute_result",
          "data": {
            "text/plain": [
              "0.9562121212121212"
            ]
          },
          "metadata": {},
          "execution_count": 17
        }
      ]
    },
    {
      "cell_type": "markdown",
      "source": [
        "This code trains a Naive Bayes text classification model using the training data (`X_train` and `y_train`), and then evaluates the accuracy of the model on the testing data (`X_test` and `y_test`).\n",
        "\n",
        "- It creates a `MultinomialNB` object `model`, which is a Naive Bayes classifier that works well with count-based data (such as the count matrix produced by `CountVectorizer`).\n",
        "\n",
        "- It trains the model using the `fit()` method, with the training data `X_train` and `y_train` as input.\n",
        "\n",
        "- It evaluates the accuracy of the model using the `score()` method, with the testing data `X_test` and `y_test` as input. The `score()` method returns the mean accuracy on the given test data and labels.\n",
        "\n",
        "The resulting accuracy of 0.9562121212121212 indicates that the model was able to correctly classify 95.6% of the test instances, i.e., it was able to predict the language of the texts with a high degree of accuracy. A higher accuracy score indicates that the model is better at predicting the language of a text document. Note that the accuracy of the model may vary depending on the specific problem and data at hand."
      ],
      "metadata": {
        "id": "QsshY6PyUP8_"
      }
    },
    {
      "cell_type": "markdown",
      "source": [
        "## Prediction"
      ],
      "metadata": {
        "id": "vKCv4HqtQm-F"
      }
    },
    {
      "cell_type": "code",
      "source": [
        " user = input(\"Enter text: \")\n",
        " data = cv.transform([user]).toarray()\n",
        " output = model.predict(data)\n",
        " print(output)"
      ],
      "metadata": {
        "colab": {
          "base_uri": "https://localhost:8080/"
        },
        "id": "vQurYLzBD6zK",
        "outputId": "bec494bf-ee20-4b58-e9f3-13cbf9e20515"
      },
      "execution_count": 19,
      "outputs": [
        {
          "output_type": "stream",
          "name": "stdout",
          "text": [
            "Enter texts: amigo\n",
            "['Spanish']\n"
          ]
        }
      ]
    },
    {
      "cell_type": "code",
      "source": [
        " user = input(\"Enter texts: \")\n",
        " data = cv.transform([user]).toarray()\n",
        " output = model.predict(data)\n",
        " print(output)"
      ],
      "metadata": {
        "colab": {
          "base_uri": "https://localhost:8080/"
        },
        "id": "JutP-cDnNv7K",
        "outputId": "51b282d9-8d65-4e9c-b4ca-76a11d9e46cc"
      },
      "execution_count": 21,
      "outputs": [
        {
          "output_type": "stream",
          "name": "stdout",
          "text": [
            "Enter texts: I want to eat ice cream\n",
            "['English']\n"
          ]
        }
      ]
    },
    {
      "cell_type": "code",
      "source": [
        " user = input(\"Enter texts: \")\n",
        " data = cv.transform([user]).toarray()\n",
        " output = model.predict(data)\n",
        " print(output)"
      ],
      "metadata": {
        "colab": {
          "base_uri": "https://localhost:8080/"
        },
        "id": "dnWqKOG2OFR7",
        "outputId": "3cb83ab6-b95e-430b-832a-e9885a54fdcf"
      },
      "execution_count": 25,
      "outputs": [
        {
          "output_type": "stream",
          "name": "stdout",
          "text": [
            "Enter texts: मुझे तुमसे प्यार है\n",
            "['Hindi']\n"
          ]
        }
      ]
    },
    {
      "cell_type": "markdown",
      "source": [
        "\n",
        "\n",
        "This code is used to predict the language of a new text input by the user, using the trained Naive Bayes classifier model.\n",
        "\n",
        "- It first prompts the user to enter a text input using the `input()` function, and stores the input in the `user` variable.\n",
        "\n",
        "- It then applies the `transform()` method of the `CountVectorizer` object `cv` to the new text input, in order to transform it into a count-based feature vector similar to the ones used in the training and testing data. The result is stored in the `data` variable as a numpy array.\n",
        "\n",
        "- The `toarray()` method is used to convert the sparse matrix representation of `data` to a dense numpy array.\n",
        "\n",
        "- It uses the `predict()` method of the trained `MultinomialNB` model to predict the language label of the new text input. The input to `predict()` is the transformed `data` variable. The predicted label is stored in the `output` variable as a numpy array.\n",
        "\n",
        "- Finally, it prints the predicted label using the `print()` function.\n",
        "\n",
        "This code can be used to test the trained model on new text inputs, and to see how well it generalizes to unseen data. Note that the accuracy of the model on new inputs may vary depending on the quality and nature of the input data."
      ],
      "metadata": {
        "id": "GsJhruxuVrcn"
      }
    }
  ]
}